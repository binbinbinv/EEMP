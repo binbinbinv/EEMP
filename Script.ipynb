{
 "cells": [
  {
   "cell_type": "markdown",
   "metadata": {},
   "source": [
    "# The scripts of the bioinformatic workflow to identify putative PET-degrading enzymes"
   ]
  },
  {
   "cell_type": "markdown",
   "metadata": {},
   "source": [
    "## Step 1\n",
    "First, we **extract all sequences** that contain a contiguous sequence of SMGGG. Second, we extract all sequences that contain a D between 25 and 35 characters after SMGGG. Third, we extract all sequences that contain an H between 68 and 78 characters after SMGGG.  \n",
    "Download the **Alphafold_sequences.fasta** on the website: https://alphafold.ebi.ac.uk/download"
   ]
  },
  {
   "cell_type": "code",
   "execution_count": 2,
   "metadata": {},
   "outputs": [],
   "source": [
    "! grep -B 1 SMGGG path/to/Alphafold_sequences.fasta | grep -E -B 1 \"SMGGG.{25,35}D\" | grep -E -B 1 \"SMGGG.{68,78}H\" | grep -v ^- > SMGGG_D_H.fasta"
   ]
  },
  {
   "cell_type": "markdown",
   "metadata": {},
   "source": [
    "## Step 2\n",
    "Extract the **description IDs** of all sequences in the SMGGG_D_H.fasta file, which will be used to download the corresponding PDB files from the AlphaFold database."
   ]
  },
  {
   "cell_type": "code",
   "execution_count": null,
   "metadata": {},
   "outputs": [],
   "source": [
    "! grep \\> path/to/SMGGG_D_H.fasta| awk -F'[- ]' '/AF-/,/-F1/{print $2}' > AFDB_download_list.txt"
   ]
  },
  {
   "cell_type": "markdown",
   "metadata": {},
   "source": [
    "## Step 3\n",
    "Download the corresponding PDB files from the AlphaFold database according to the **AFDB_download_list.txt** file."
   ]
  },
  {
   "cell_type": "code",
   "execution_count": null,
   "metadata": {},
   "outputs": [],
   "source": [
    "! cat AFDB_download_list.txt | xargs -I {} -n 1 -P 4 wget -P path/to/AF_PDB(folder to storage the pdb files)/ \"https://alphafold.ebi.ac.uk/files/AF-{}-F1-model_v4.pdb\""
   ]
  },
  {
   "cell_type": "markdown",
   "metadata": {},
   "source": [
    "## Step 4\n",
    "For each sequence in the FASTA file, find the possible permutations of the positions of S, D, and H in the SMGGG sequence, which will be used to calculate the distance between S, D, and H in the PDB file."
   ]
  },
  {
   "cell_type": "code",
   "execution_count": null,
   "metadata": {},
   "outputs": [],
   "source": [
    "import os\n",
    "import math\n",
    "\n",
    "# Difine the function to parse the fasta file\n",
    "def parse_fasta(file_path):\n",
    "    with open(file_path, 'r') as file:\n",
    "        lines = file.readlines()\n",
    "\n",
    "    protein_data = []\n",
    "    current_protein = {\"name\": \"\", \"sequence\": \"\"}\n",
    "    \n",
    "    for line in lines:\n",
    "        line = line.strip()\n",
    "        if line.startswith(\">\"):\n",
    "            if current_protein[\"name\"] != \"\":\n",
    "                protein_data.append(current_protein.copy())\n",
    "            current_protein[\"name\"] = line.split(\" \", 1)[0][1:]  # Extract the part before the first space\n",
    "            current_protein[\"sequence\"] = \"\"\n",
    "        else:\n",
    "            current_protein[\"sequence\"] += line\n",
    "\n",
    "    protein_data.append(current_protein)  # Add the last protein\n",
    "    \n",
    "    return protein_data\n",
    "\n",
    "# Define the function to find the position of the target substring\n",
    "def find_s_position(sequence, target_substring):\n",
    "    positions = [i + 1 for i in range(len(sequence)) if sequence[i:i + len(target_substring)] == target_substring]\n",
    "    return positions\n",
    "\n",
    "# Define the function to find the position of the target char in the interval\n",
    "def find_char_positions_in_interval(sequence, start, end, target_char):\n",
    "    positions = [i + 1 for i in range(start - 1, min(end, len(sequence))) if sequence[i] == target_char]\n",
    "    return positions\n",
    "\n",
    "# Define the function to get the coordinates and reliability of the target position\n",
    "def get_ca_coordinates_and_reliability(pdb_path, protein_name, i):\n",
    "    pdb_file_path = os.path.join(pdb_path, f\"{protein_name}-model_v4.pdb\")\n",
    "\n",
    "    try:\n",
    "        with open(pdb_file_path, \"r\") as f:\n",
    "            ca_lines = [line.split() for line in f if line.startswith(\"ATOM\") and \" CA \" in line]\n",
    "\n",
    "            if 1 <= i <= len(ca_lines):\n",
    "                line = ca_lines[i - 1]\n",
    "                x = float(line[6])\n",
    "                y = float(line[7])\n",
    "                z = float(line[8])\n",
    "                reliability = float(line[10])\n",
    "\n",
    "                return {\"coordinates\": [x, y, z], \"reliability\": reliability}\n",
    "            else:\n",
    "                print(f\"Error: Index {i} is out of range.\")\n",
    "                return None\n",
    "\n",
    "    except (ValueError, IndexError) as e:\n",
    "        print(f\"Error: {e}\")\n",
    "        return None\n",
    "\n",
    "# Define the function to calculate the distance between two points\n",
    "def euclidean_distance(point1, point2):\n",
    "    if len(point1) != len(point2):\n",
    "        raise ValueError(\"Points must have the same number of dimensions\")\n",
    "\n",
    "    squared_distances = [(p1 - p2)**2 for p1, p2 in zip(point1, point2)]\n",
    "    sum_of_squares = sum(squared_distances)\n",
    "    distance = math.sqrt(sum_of_squares)\n",
    "    \n",
    "    return distance\n",
    "\n",
    "# Define the main function\n",
    "def main():\n",
    "    fasta_file_path = \"path/to/SMGGG_D_H.fasta\"  # Replace with your actual file path\n",
    "    protein_data = parse_fasta(fasta_file_path)\n",
    "    pdb_path = \"/path/to/AF_PDB(folder to storage the pdb files)\"\n",
    "    \n",
    "    for protein in protein_data:\n",
    "        protein_name = protein[\"name\"].replace(\"AFDB:\", \"\")\n",
    "\n",
    "        # Find position of 'S' in SMGGG\n",
    "        s_positions = find_s_position(protein[\"sequence\"], \"SMGGG\")\n",
    "\n",
    "        # Find positions of 'D'\n",
    "        d_positions = find_char_positions_in_interval(protein[\"sequence\"], s_positions[0] + len(\"SMGGG\") + 25, s_positions[0] + len(\"SMGGG\") + 35, 'D')\n",
    "\n",
    "        # Find positions of 'H'\n",
    "        h_positions = find_char_positions_in_interval(protein[\"sequence\"], s_positions[0] + len(\"SMGGG\") + 68, s_positions[0] + len(\"SMGGG\") + 78, 'H')\n",
    "\n",
    "        # Find the distance between S and D, S and H, D and H\n",
    "        with open(os.path.join(pdb_path, protein_name + \"-model_v4.pdb\"), \"r\") as f:\n",
    "            for i in range(len(s_positions)):\n",
    "                for j in range(len(d_positions)):\n",
    "                    for k in range(len(h_positions)):\n",
    "                        # Find the positions of S, D, H\n",
    "                        result_positions = []\n",
    "                        result_positions.append(s_positions[i])\n",
    "                        result_positions.append(d_positions[j])\n",
    "                        result_positions.append(h_positions[k])\n",
    "                        \n",
    "                        # Find the coordinates and reliability of S, D, H\n",
    "                        Ca_coordinates = [get_ca_coordinates_and_reliability(pdb_path, protein_name, i)[\"coordinates\"] for i in result_positions]\n",
    "                        Ca_reliability = [get_ca_coordinates_and_reliability(pdb_path, protein_name, i)[\"reliability\"] for i in result_positions]\n",
    "                        \n",
    "                        # Calculate the distance between S, D, H, and determine whether the distance meets the requirements of reliability >= 60.\n",
    "                        if min(Ca_reliability) >= 60:\n",
    "                            S_D_distance = euclidean_distance(Ca_coordinates[0], Ca_coordinates[1])\n",
    "                            S_H_distance = euclidean_distance(Ca_coordinates[0], Ca_coordinates[2])\n",
    "                            D_H_distance = euclidean_distance(Ca_coordinates[1], Ca_coordinates[2])\n",
    "                            if 20 <= S_D_distance <= 22 and 25 <= S_H_distance <= 27 and 37 <= D_H_distance <= 39:\n",
    "                                print(\"Protein Name:\", protein_name)\n",
    "                                print(\"Result Positions:\", result_positions)\n",
    "                                print(\"S_D_distance:\", S_D_distance)\n",
    "                                print(\"S_H_distance:\", S_H_distance)\n",
    "                                print(\"D_H_distance:\", D_H_distance)\n",
    "                            \n",
    "\n",
    "if __name__ == \"__main__\":\n",
    "    main()"
   ]
  }
 ],
 "metadata": {
  "kernelspec": {
   "display_name": "pyg",
   "language": "python",
   "name": "python3"
  },
  "language_info": {
   "codemirror_mode": {
    "name": "ipython",
    "version": 3
   },
   "file_extension": ".py",
   "mimetype": "text/x-python",
   "name": "python",
   "nbconvert_exporter": "python",
   "pygments_lexer": "ipython3",
   "version": "3.9.16"
  }
 },
 "nbformat": 4,
 "nbformat_minor": 2
}
